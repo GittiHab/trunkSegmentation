{
 "cells": [
  {
   "cell_type": "code",
   "execution_count": 4,
   "id": "d1329a26-f94e-47ef-b07b-cc7f96a938d6",
   "metadata": {
    "tags": []
   },
   "outputs": [],
   "source": [
    "%load_ext autoreload\n",
    "%autoreload 2"
   ]
  },
  {
   "cell_type": "code",
   "execution_count": 5,
   "id": "0f97a9a3-797d-4f55-9f09-e51bb7efd970",
   "metadata": {
    "tags": []
   },
   "outputs": [],
   "source": [
    "import sys\n",
    " \n",
    "# setting path\n",
    "sys.path.append('..')"
   ]
  },
  {
   "cell_type": "code",
   "execution_count": 6,
   "id": "32771230-65a6-442c-a02a-5b6e16cb5f05",
   "metadata": {
    "tags": []
   },
   "outputs": [],
   "source": [
    "import skimage\n",
    "import torch\n",
    "import numpy as np\n",
    "import glob\n",
    "import os\n",
    "import torchmetrics\n",
    "import scipy\n",
    "from training.segmentation_module import BinarySegmentation\n",
    "from utils.config_utils import read_transforms"
   ]
  },
  {
   "cell_type": "code",
   "execution_count": 7,
   "id": "5bbfaf74-84f6-426a-8bf1-6179b2215a10",
   "metadata": {
    "tags": []
   },
   "outputs": [],
   "source": [
    "import pylab\n",
    "pylab.rcParams['figure.figsize'] = (10.0, 8.0) "
   ]
  },
  {
   "cell_type": "code",
   "execution_count": 8,
   "id": "a0592ef7-bb48-43a1-8213-c59f0db1b29a",
   "metadata": {
    "tags": []
   },
   "outputs": [],
   "source": [
    "model_id = '2ixkh869'"
   ]
  },
  {
   "cell_type": "code",
   "execution_count": 9,
   "id": "501d3699-3090-40a5-908b-cd4c8e8bd0e1",
   "metadata": {
    "tags": []
   },
   "outputs": [
    {
     "data": {
      "text/plain": [
       "'cuda'"
      ]
     },
     "execution_count": 9,
     "metadata": {},
     "output_type": "execute_result"
    }
   ],
   "source": [
    "device = 'cuda' if torch.cuda.is_available() else 'cpu'\n",
    "device"
   ]
  },
  {
   "cell_type": "markdown",
   "id": "c6c3a24f-b55e-46eb-be24-564f43d4af17",
   "metadata": {
    "tags": []
   },
   "source": [
    "## Visualization Helpers"
   ]
  },
  {
   "cell_type": "code",
   "execution_count": 13,
   "id": "afbc1662-ff41-4561-bcbd-99b34ebf07d0",
   "metadata": {
    "tags": []
   },
   "outputs": [],
   "source": [
    "def visualize_mask(img, mask, color=(255, 0, 0), alpha=0.5):\n",
    "  # credits: https://stackoverflow.com/questions/9193603/applying-a-coloured-overlay-to-an-image-in-either-pil-or-imagemagik\n",
    "\n",
    "  img_color = skimage.color.gray2rgb(img)\n",
    "\n",
    "  col_mask = np.ones((mask.shape[0], mask.shape[1], 3)) * (255, 0 ,0)\n",
    "  col_mask[mask == 0] = 0\n",
    "\n",
    "  img_hsv = skimage.color.rgb2hsv(img_color)\n",
    "  color_mask_hsv = skimage.color.rgb2hsv(col_mask)\n",
    "\n",
    "  # Replace the hue and saturation of the original image\n",
    "  # with that of the color mask\n",
    "  img_hsv[..., 0] = color_mask_hsv[..., 0]\n",
    "  img_hsv[..., 1] = color_mask_hsv[..., 1] * alpha\n",
    "\n",
    "  return skimage.color.hsv2rgb(img_hsv)"
   ]
  },
  {
   "cell_type": "code",
   "execution_count": 14,
   "id": "2c9f5f59-531f-4d9e-83d0-14edebf7c634",
   "metadata": {},
   "outputs": [],
   "source": [
    "def crop(image, mask=None, padding=10):\n",
    "    meansY, meansX = np.mean(image, axis=1), np.mean(image, axis=0)    \n",
    "    selected_indices = np.asarray(meansX > np.round(np.min(meansX))).nonzero()[0]\n",
    "    minX = selected_indices[0] - padding\n",
    "    maxX = selected_indices[-1] + padding\n",
    "    selected_indices = np.asarray(meansY > np.round(np.min(meansY))).nonzero()[0]\n",
    "    minY = selected_indices[0] - padding\n",
    "    maxY = selected_indices[-1] + padding\n",
    "    if mask is not None:\n",
    "        return image[minY:maxY, minX:maxX], mask[minY:maxY, minX:maxX]\n",
    "    return image[minY:maxY, minX:maxX]"
   ]
  },
  {
   "cell_type": "code",
   "execution_count": 15,
   "id": "327b2d42-3a41-4b23-8876-3d3b5744d2c8",
   "metadata": {
    "tags": []
   },
   "outputs": [],
   "source": [
    "model_path = \"../trunk-segmentation/{}/checkpoints/last.ckpt\".format(model_id)\n",
    "model = BinarySegmentation.load_from_checkpoint(model_path).to(device)\n",
    "config = model.config\n",
    "general_transforms = read_transforms(config['transforms']['general'])"
   ]
  },
  {
   "cell_type": "markdown",
   "id": "aa424874-4985-4428-aeb7-c62871153ac8",
   "metadata": {},
   "source": [
    "## Setup Evaluation"
   ]
  },
  {
   "cell_type": "code",
   "execution_count": 16,
   "id": "88f4a8e6-d7d8-4ee6-9108-2360aa22f243",
   "metadata": {
    "tags": []
   },
   "outputs": [],
   "source": [
    "# # Predictions by machine\n",
    "# models = {}  # should be a float tensor\n",
    "# # Segmentation by human (ground truth)\n",
    "# manual_segmentation = None  # should be a long tensor\n",
    "# # Selected (high quality) regions used for evaluation\n",
    "# evaluation_mask = None  # should be a boolean tensor"
   ]
  },
  {
   "cell_type": "code",
   "execution_count": 126,
   "id": "6a5d67cd-c228-49e6-a4ee-c7c55ad8deca",
   "metadata": {
    "tags": []
   },
   "outputs": [
    {
     "name": "stdout",
     "output_type": "stream",
     "text": [
      "Loading model 0 from ..\\exports\\2ixkh869\\0.tiff\n",
      "Loading model 1 from ..\\exports\\2ixkh869\\1.tiff\n",
      "Loading model 2 from ..\\exports\\2ixkh869\\2.tiff\n"
     ]
    }
   ],
   "source": [
    "axes_files = sorted(glob.glob(os.path.join('..', \"exports\", model_id, \"*.tiff\")))\n",
    "models = {}\n",
    "for a in axes_files:\n",
    "    model_name = os.path.splitext(os.path.basename(a))[0]\n",
    "    print(\"Loading model\", model_name, \"from\", a)\n",
    "    multi_img = skimage.io.MultiImage(a)\n",
    "    models[model_name] = multi_img[0]"
   ]
  },
  {
   "cell_type": "code",
   "execution_count": 18,
   "id": "bc54564b-08e9-4cee-9413-0c0ec3aafaa7",
   "metadata": {
    "tags": []
   },
   "outputs": [
    {
     "data": {
      "text/plain": [
       "(1445, 2150, 2150)"
      ]
     },
     "execution_count": 18,
     "metadata": {},
     "output_type": "execute_result"
    }
   ],
   "source": [
    "models['0'].shape"
   ]
  },
  {
   "cell_type": "markdown",
   "id": "341de612-e5ef-4234-b1d5-046be20f2b78",
   "metadata": {
    "tags": []
   },
   "source": [
    "### Visualize Data"
   ]
  },
  {
   "cell_type": "code",
   "execution_count": 29,
   "id": "531bb003-92a3-4be3-ae0b-9cfc9bb2024b",
   "metadata": {
    "tags": []
   },
   "outputs": [],
   "source": [
    "data_path = \"../data/scan.tif\"\n",
    "image_data = general_transforms(image=skimage.io.MultiImage(data_path)[0])['image']"
   ]
  },
  {
   "cell_type": "code",
   "execution_count": 30,
   "id": "4818d94e-e81a-436d-886a-f1e3069e834f",
   "metadata": {
    "tags": []
   },
   "outputs": [
    {
     "data": {
      "text/plain": [
       "(1445, 2150, 2150)"
      ]
     },
     "execution_count": 30,
     "metadata": {},
     "output_type": "execute_result"
    }
   ],
   "source": [
    "image_data.shape"
   ]
  },
  {
   "cell_type": "markdown",
   "id": "f22441fa-f707-4da8-87b6-84c8ba2e04bd",
   "metadata": {},
   "source": [
    "### Load everything else"
   ]
  },
  {
   "cell_type": "code",
   "execution_count": 148,
   "id": "638f785c-440e-4e8e-b766-eaa3ad2ab291",
   "metadata": {
    "tags": []
   },
   "outputs": [],
   "source": [
    "def abs_error(y_hat, target):\n",
    "    return np.sum(y_hat != target) / len(target)"
   ]
  },
  {
   "cell_type": "code",
   "execution_count": 2,
   "id": "5c1a36d6-00f8-485d-b8c5-4a734d200fe6",
   "metadata": {
    "tags": []
   },
   "outputs": [],
   "source": [
    "multi_img = skimage.io.MultiImage(\"../data/segmentation.tif\")\n",
    "manual_segmentation = multi_img[0]"
   ]
  },
  {
   "cell_type": "code",
   "execution_count": 3,
   "id": "da2479a9-a76c-479b-931a-69eb1dc8b331",
   "metadata": {
    "tags": []
   },
   "outputs": [],
   "source": [
    "multi_img = skimage.io.MultiImage(\"../data/validation_mask_extended.tiff\")\n",
    "evaluation_mask = multi_img[0]"
   ]
  },
  {
   "cell_type": "code",
   "execution_count": 10,
   "id": "d57233fa-fea0-4a24-a8c4-fcdb6560113f",
   "metadata": {
    "tags": []
   },
   "outputs": [],
   "source": [
    "evaluation_mask = evaluation_mask.astype(bool)"
   ]
  },
  {
   "cell_type": "code",
   "execution_count": 150,
   "id": "456f6ba7-8609-47d5-96db-9fa86b2a0eeb",
   "metadata": {
    "tags": []
   },
   "outputs": [],
   "source": [
    "target = manual_segmentation[evaluation_mask]"
   ]
  },
  {
   "cell_type": "code",
   "execution_count": 151,
   "id": "4e97b004-dfe0-4a2a-88a9-9bb5d4b41e65",
   "metadata": {},
   "outputs": [],
   "source": [
    "results = []\n",
    "\n",
    "jaccard_fn = scipy.spatial.distance.jaccard\n",
    "dice_fn = scipy.spatial.distance.dice\n",
    "for model, predictions in models.items():\n",
    "    y_hat = predictions[evaluation_mask]\n",
    "    jaccard_index = jaccard_fn(y_hat, target)\n",
    "    dice_score = 2 * dice_fn(y_hat, target)\n",
    "    abs_err = abs_error(y_hat, target)\n",
    "    results.append((model, jaccard_index, dice_score, abs_err))"
   ]
  },
  {
   "cell_type": "code",
   "execution_count": 152,
   "id": "2bdf7460-2de7-465e-8e96-311ba2d19009",
   "metadata": {
    "tags": []
   },
   "outputs": [
    {
     "data": {
      "text/plain": [
       "[('0', 0.4737801354909511, 0.6208543690307107, 0.0957516508905326),\n",
       " ('1', 0.43153812073380443, 0.5502691859309955, 0.09007600444521771),\n",
       " ('2', 0.4315707738919931, 0.5503222800341695, 0.08886046624628324)]"
      ]
     },
     "execution_count": 152,
     "metadata": {},
     "output_type": "execute_result"
    }
   ],
   "source": [
    "results"
   ]
  },
  {
   "cell_type": "code",
   "execution_count": 143,
   "id": "7e5f6a73-9199-4fab-a137-f47c1a723ade",
   "metadata": {
    "tags": []
   },
   "outputs": [
    {
     "data": {
      "text/plain": [
       "[('0', 0.5820308464906356, 0.7461414449429496),\n",
       " ('1', 0.49005655060529524, 0.5905913312634659),\n",
       " ('2', 0.4921585800198517, 0.5971657801037172)]"
      ]
     },
     "execution_count": 143,
     "metadata": {},
     "output_type": "execute_result"
    }
   ],
   "source": [
    "results"
   ]
  },
  {
   "cell_type": "markdown",
   "id": "14e367b7-268d-44c2-8038-a97bfaec64d0",
   "metadata": {},
   "source": [
    "## Actual Majority Voting"
   ]
  },
  {
   "cell_type": "code",
   "execution_count": 155,
   "id": "939b5dd7-ebf3-46ee-b059-d64931f4b53b",
   "metadata": {
    "tags": []
   },
   "outputs": [],
   "source": [
    "super_model_pre = models['0'][evaluation_mask] + models['1'][evaluation_mask] + models['2'][evaluation_mask]"
   ]
  },
  {
   "cell_type": "code",
   "execution_count": 156,
   "id": "9fb10f57-16e7-4f1a-8c4c-bc54434657c0",
   "metadata": {
    "tags": []
   },
   "outputs": [],
   "source": [
    "super_model_pre /= 3"
   ]
  },
  {
   "cell_type": "code",
   "execution_count": 158,
   "id": "83205c63-dba2-4a2d-9955-ea5e2be3cb85",
   "metadata": {
    "tags": []
   },
   "outputs": [],
   "source": [
    "extended_models = {}\n",
    "extended_models['All Agree'] = super_model_pre == 1\n",
    "extended_models['Majority Voting'] = super_model_pre > 0.66\n",
    "extended_models['Merge'] = super_model_pre > 0"
   ]
  },
  {
   "cell_type": "code",
   "execution_count": 159,
   "id": "b4d8a20a-1b45-4630-ab45-09e6aa39ce97",
   "metadata": {
    "tags": []
   },
   "outputs": [],
   "source": [
    "for model, y_hat in extended_models.items():\n",
    "    jaccard_index = jaccard_fn(y_hat, target)\n",
    "    dice_score = 2 * dice_fn(y_hat, target)\n",
    "    abs_err = abs_error(y_hat, target)\n",
    "    results.append((model, jaccard_index, dice_score, abs_err))"
   ]
  },
  {
   "cell_type": "code",
   "execution_count": 160,
   "id": "44aeec93-40be-4903-97fc-4d27d175e6dd",
   "metadata": {
    "tags": []
   },
   "outputs": [
    {
     "data": {
      "text/plain": [
       "[('0', 0.4737801354909511, 0.6208543690307107, 0.0957516508905326),\n",
       " ('1', 0.43153812073380443, 0.5502691859309955, 0.09007600444521771),\n",
       " ('2', 0.4315707738919931, 0.5503222800341695, 0.08886046624628324),\n",
       " ('All Agree', 0.5051432846366452, 0.6758417438207246, 0.09525242598226615),\n",
       " ('Majority Voting',\n",
       "  0.4300566816585546,\n",
       "  0.547862686040009,\n",
       "  0.0875281548741436),\n",
       " ('Merge', 0.4091292850215254, 0.5143463653827598, 0.0919075407256238)]"
      ]
     },
     "execution_count": 160,
     "metadata": {},
     "output_type": "execute_result"
    }
   ],
   "source": [
    "results"
   ]
  },
  {
   "cell_type": "code",
   "execution_count": 33,
   "id": "e2e2a690-d73a-466f-9101-9d0c7ddfe1e9",
   "metadata": {
    "tags": []
   },
   "outputs": [
    {
     "data": {
      "text/plain": [
       "[('0', 0.5320657717268255, 0.6327111116738575),\n",
       " ('1', 0.4852755856899538, 0.565482667751459),\n",
       " ('2', 0.47989010460769344, 0.559883475757238),\n",
       " ('All Agree', 0.5518138006386204, 0.7620757619178515),\n",
       " ('Majority Voting', 0.4359628779314819, 0.5574840542849763),\n",
       " ('Merge', 0.4164239330857005, 0.5259285509374103)]"
      ]
     },
     "execution_count": 33,
     "metadata": {},
     "output_type": "execute_result"
    }
   ],
   "source": [
    "results  # TODO: find more metrics (comparing quantitative with qualitative it seems there is a discrepancy)"
   ]
  },
  {
   "cell_type": "markdown",
   "id": "9c337007-a3cb-4861-be0f-50847df906de",
   "metadata": {
    "jp-MarkdownHeadingCollapsed": true,
    "tags": []
   },
   "source": [
    "### Visualize New Model"
   ]
  },
  {
   "cell_type": "code",
   "execution_count": null,
   "id": "5d7719d3-4e97-4de8-ac37-21cf6db3297c",
   "metadata": {
    "tags": []
   },
   "outputs": [],
   "source": [
    "pylab.rcParams['figure.figsize'] = (15.0, 12.0)\n",
    "super_model_pred = ((models['0'][key] + models['1'][key] + models['2'][key]) / 3) == 1  # TODO: write a function to compute the combined models\n",
    "img_cropped, mask_cropped = crop(image_data[key], super_model_pred)\n",
    "skimage.io.imshow(visualize_mask(img_cropped, mask_cropped))"
   ]
  },
  {
   "cell_type": "code",
   "execution_count": null,
   "id": "6a8a7323-7fae-4ebb-840d-6132085a4621",
   "metadata": {
    "tags": []
   },
   "outputs": [],
   "source": [
    "pylab.rcParams['figure.figsize'] = (15.0, 12.0)\n",
    "super_model_pred = ((models['0'][key] + models['1'][key] + models['2'][key]) / 3) > 0  # TODO: write a function to compute the combined models\n",
    "img_cropped, mask_cropped = crop(image_data[key], super_model_pred)\n",
    "skimage.io.imshow(visualize_mask(img_cropped, mask_cropped))"
   ]
  },
  {
   "cell_type": "markdown",
   "id": "6e3a5e6e-c66a-4426-a4cd-92f6950c7f7c",
   "metadata": {},
   "source": [
    "## Analyse performance of regions"
   ]
  },
  {
   "cell_type": "markdown",
   "id": "4e084b28-dbda-4eba-90fe-fef2cd4b498f",
   "metadata": {},
   "source": [
    "1. Extract regions from evaluation mask\n",
    "2. Compute scores for each region\n",
    "3. Calculate average over these scores\n",
    "4. Analyse which regions perform better or worse"
   ]
  },
  {
   "cell_type": "code",
   "execution_count": 167,
   "id": "8c47d848-ce97-4693-adc6-4d693a89c746",
   "metadata": {
    "tags": []
   },
   "outputs": [],
   "source": [
    "from utils.dataset_utils import extract_masked_regions, cache_exists, load_cached, save_cache\n",
    "from functools import reduce\n",
    "import pandas as pd"
   ]
  },
  {
   "cell_type": "code",
   "execution_count": 60,
   "id": "2bd0528e-a669-433e-a086-612e75fe7000",
   "metadata": {
    "tags": []
   },
   "outputs": [],
   "source": [
    "total_size = manual_segmentation.shape[0] * manual_segmentation.shape[1] * manual_segmentation.shape[2]\n",
    "indices = np.arange(0, total_size)\n",
    "indices = np.reshape(a, manual_segmentation.shape)"
   ]
  },
  {
   "cell_type": "code",
   "execution_count": 65,
   "id": "f8f24132-288d-4ce5-a550-fd46e07e95f2",
   "metadata": {
    "tags": []
   },
   "outputs": [
    {
     "name": "stderr",
     "output_type": "stream",
     "text": [
      "Finding masks in axis 0: 100%|████████████████████████████████████████████████████████████████████████████████████████████████████████████████████████████████████████████████████| 1445/1445 [00:09<00:00, 148.08it/s]\n",
      "Finding masks in axis 1: 100%|████████████████████████████████████████████████████████████████████████████████████████████████████████████████████████████████████████████████████| 2150/2150 [00:08<00:00, 253.77it/s]\n",
      "Finding masks in axis 2: 100%|█████████████████████████████████████████████████████████████████████████████████████████████████████████████████████████████████████████████████████| 2150/2150 [02:02<00:00, 17.62it/s]\n"
     ]
    }
   ],
   "source": [
    "cache_path = 'eval_mask'\n",
    "if cache_exists(cache_path):\n",
    "    eval_imgs, eval_indices = load_cached(cache_path)\n",
    "else:\n",
    "    print('Cache does not exist')\n",
    "    eval_imgs, eval_indices = extract_masked_regions(evaluation_mask, image_data, indices, config['patch_size'])\n",
    "    save_cache(cache_path, eval_imgs, eval_indices)"
   ]
  },
  {
   "cell_type": "code",
   "execution_count": 204,
   "id": "332f1981-2e12-4813-9606-2c3baee956aa",
   "metadata": {
    "tags": []
   },
   "outputs": [],
   "source": [
    "cache = {}\n",
    "def select_region(region, data, cache_i=None, reshape=True):\n",
    "    if cache_i is not None and cache_i in cache:\n",
    "        mask_ = cache[cache_i]\n",
    "    else:\n",
    "        total_size = reduce((lambda x, y: x * y), data.shape)\n",
    "        mask_ = np.zeros(total_size, dtype=bool)\n",
    "        mask_[region.flatten()] = 1\n",
    "        mask_ = mask_.reshape(data.shape)\n",
    "        if cache_i is not None:\n",
    "            cache[cache_i] = mask_\n",
    "    return data[mask_].reshape(region.shape) if reshape else data[mask_]"
   ]
  },
  {
   "cell_type": "code",
   "execution_count": 205,
   "id": "e2768c8f-c41a-4b63-8a98-b173670dbff8",
   "metadata": {
    "tags": []
   },
   "outputs": [],
   "source": [
    "mask = select_region(eval_indices[1], manual_segmentatione_data)"
   ]
  },
  {
   "cell_type": "code",
   "execution_count": 209,
   "id": "c7f4f2c0-525e-4347-a81d-22ae34420a09",
   "metadata": {
    "tags": []
   },
   "outputs": [
    {
     "name": "stderr",
     "output_type": "stream",
     "text": [
      "C:\\Users\\lab\\anaconda3\\envs\\trunkSeg\\lib\\site-packages\\scipy\\spatial\\distance.py:1415: RuntimeWarning: invalid value encountered in divide\n",
      "  return float((ntf + nft) / np.array(2.0 * ntt + ntf + nft))\n"
     ]
    }
   ],
   "source": [
    "results_detailed = []\n",
    "for i, region in enumerate(eval_indices):\n",
    "    cache = {}  # save some memory\n",
    "    target = select_region(region, manual_segmentation, cache_i=i, reshape=False)\n",
    "    for model, predictions in models.items():\n",
    "        y_hat = select_region(region, predictions, cache_i=i, reshape=False)\n",
    "        jaccard_index = jaccard_fn(y_hat, target)\n",
    "        dice_score = 2 * dice_fn(y_hat, target)\n",
    "        abs_err = abs_error(y_hat, target)\n",
    "        results_detailed.append((i, model, jaccard_index, dice_score, abs_err))\n",
    "    \n",
    "    y_0 = select_region(region, models['0'], cache_i=i, reshape=False)\n",
    "    y_1 = select_region(region, models['1'], cache_i=i, reshape=False)\n",
    "    y_2 = select_region(region, models['2'], cache_i=i, reshape=False)\n",
    "    \n",
    "    extended_models_detailed = {}\n",
    "    super_model_pre = y_0 + y_1 + y_2\n",
    "    super_model_pre /= 3\n",
    "    extended_models_detailed['All Agree'] = super_model_pre == 1\n",
    "    extended_models_detailed['Majority Voting'] = super_model_pre > 0.66\n",
    "    extended_models_detailed['Merge'] = super_model_pre > 0\n",
    "    \n",
    "    for model, y_hat in extended_models_detailed.items():\n",
    "        jaccard_index = jaccard_fn(y_hat, target)\n",
    "        dice_score = 2 * dice_fn(y_hat, target)\n",
    "        abs_err = abs_error(y_hat, target)\n",
    "        results_detailed.append((i, model, jaccard_index, dice_score, abs_err))"
   ]
  },
  {
   "cell_type": "code",
   "execution_count": 210,
   "id": "74301020-11d3-449d-932b-b1066d35d1c3",
   "metadata": {
    "tags": []
   },
   "outputs": [],
   "source": [
    "df_results = pd.DataFrame.from_records(results, columns=['model','jaccard','dice', 'abs error'])"
   ]
  },
  {
   "cell_type": "code",
   "execution_count": 211,
   "id": "d0362503-d5ff-4b8f-b0d5-c0d7fb3f2dd9",
   "metadata": {
    "tags": []
   },
   "outputs": [],
   "source": [
    "df = pd.DataFrame.from_records(results_detailed, columns=['region','model','jaccard','dice', 'abs error'])"
   ]
  },
  {
   "cell_type": "code",
   "execution_count": 212,
   "id": "261cd096-74c9-415c-943f-28a72cf8e9c8",
   "metadata": {
    "tags": []
   },
   "outputs": [
    {
     "data": {
      "text/html": [
       "<div>\n",
       "<style scoped>\n",
       "    .dataframe tbody tr th:only-of-type {\n",
       "        vertical-align: middle;\n",
       "    }\n",
       "\n",
       "    .dataframe tbody tr th {\n",
       "        vertical-align: top;\n",
       "    }\n",
       "\n",
       "    .dataframe thead th {\n",
       "        text-align: right;\n",
       "    }\n",
       "</style>\n",
       "<table border=\"1\" class=\"dataframe\">\n",
       "  <thead>\n",
       "    <tr style=\"text-align: right;\">\n",
       "      <th></th>\n",
       "      <th>region</th>\n",
       "      <th>jaccard</th>\n",
       "      <th>dice</th>\n",
       "      <th>abs error</th>\n",
       "    </tr>\n",
       "    <tr>\n",
       "      <th>model</th>\n",
       "      <th></th>\n",
       "      <th></th>\n",
       "      <th></th>\n",
       "      <th></th>\n",
       "    </tr>\n",
       "  </thead>\n",
       "  <tbody>\n",
       "    <tr>\n",
       "      <th>0</th>\n",
       "      <td>5.5</td>\n",
       "      <td>0.470486</td>\n",
       "      <td>0.720793</td>\n",
       "      <td>0.116159</td>\n",
       "    </tr>\n",
       "    <tr>\n",
       "      <th>1</th>\n",
       "      <td>5.5</td>\n",
       "      <td>0.441517</td>\n",
       "      <td>0.681204</td>\n",
       "      <td>0.108038</td>\n",
       "    </tr>\n",
       "    <tr>\n",
       "      <th>2</th>\n",
       "      <td>5.5</td>\n",
       "      <td>0.421294</td>\n",
       "      <td>0.610819</td>\n",
       "      <td>0.106184</td>\n",
       "    </tr>\n",
       "    <tr>\n",
       "      <th>All Agree</th>\n",
       "      <td>5.5</td>\n",
       "      <td>0.502022</td>\n",
       "      <td>0.792568</td>\n",
       "      <td>0.117109</td>\n",
       "    </tr>\n",
       "    <tr>\n",
       "      <th>Majority Voting</th>\n",
       "      <td>5.5</td>\n",
       "      <td>0.436166</td>\n",
       "      <td>0.664136</td>\n",
       "      <td>0.105074</td>\n",
       "    </tr>\n",
       "    <tr>\n",
       "      <th>Merge</th>\n",
       "      <td>5.5</td>\n",
       "      <td>0.401096</td>\n",
       "      <td>0.573698</td>\n",
       "      <td>0.108198</td>\n",
       "    </tr>\n",
       "  </tbody>\n",
       "</table>\n",
       "</div>"
      ],
      "text/plain": [
       "                 region   jaccard      dice  abs error\n",
       "model                                                 \n",
       "0                   5.5  0.470486  0.720793   0.116159\n",
       "1                   5.5  0.441517  0.681204   0.108038\n",
       "2                   5.5  0.421294  0.610819   0.106184\n",
       "All Agree           5.5  0.502022  0.792568   0.117109\n",
       "Majority Voting     5.5  0.436166  0.664136   0.105074\n",
       "Merge               5.5  0.401096  0.573698   0.108198"
      ]
     },
     "execution_count": 212,
     "metadata": {},
     "output_type": "execute_result"
    }
   ],
   "source": [
    "df.groupby(['model']).mean()"
   ]
  },
  {
   "cell_type": "code",
   "execution_count": 213,
   "id": "0829b87b-bc45-4e8e-a1da-05b90ff9abf9",
   "metadata": {
    "tags": []
   },
   "outputs": [
    {
     "data": {
      "text/html": [
       "<div>\n",
       "<style scoped>\n",
       "    .dataframe tbody tr th:only-of-type {\n",
       "        vertical-align: middle;\n",
       "    }\n",
       "\n",
       "    .dataframe tbody tr th {\n",
       "        vertical-align: top;\n",
       "    }\n",
       "\n",
       "    .dataframe thead th {\n",
       "        text-align: right;\n",
       "    }\n",
       "</style>\n",
       "<table border=\"1\" class=\"dataframe\">\n",
       "  <thead>\n",
       "    <tr style=\"text-align: right;\">\n",
       "      <th></th>\n",
       "      <th>model</th>\n",
       "      <th>jaccard</th>\n",
       "      <th>dice</th>\n",
       "      <th>abs error</th>\n",
       "    </tr>\n",
       "  </thead>\n",
       "  <tbody>\n",
       "    <tr>\n",
       "      <th>0</th>\n",
       "      <td>0</td>\n",
       "      <td>0.473780</td>\n",
       "      <td>0.620854</td>\n",
       "      <td>0.095752</td>\n",
       "    </tr>\n",
       "    <tr>\n",
       "      <th>1</th>\n",
       "      <td>1</td>\n",
       "      <td>0.431538</td>\n",
       "      <td>0.550269</td>\n",
       "      <td>0.090076</td>\n",
       "    </tr>\n",
       "    <tr>\n",
       "      <th>2</th>\n",
       "      <td>2</td>\n",
       "      <td>0.431571</td>\n",
       "      <td>0.550322</td>\n",
       "      <td>0.088860</td>\n",
       "    </tr>\n",
       "    <tr>\n",
       "      <th>3</th>\n",
       "      <td>All Agree</td>\n",
       "      <td>0.505143</td>\n",
       "      <td>0.675842</td>\n",
       "      <td>0.095252</td>\n",
       "    </tr>\n",
       "    <tr>\n",
       "      <th>4</th>\n",
       "      <td>Majority Voting</td>\n",
       "      <td>0.430057</td>\n",
       "      <td>0.547863</td>\n",
       "      <td>0.087528</td>\n",
       "    </tr>\n",
       "    <tr>\n",
       "      <th>5</th>\n",
       "      <td>Merge</td>\n",
       "      <td>0.409129</td>\n",
       "      <td>0.514346</td>\n",
       "      <td>0.091908</td>\n",
       "    </tr>\n",
       "  </tbody>\n",
       "</table>\n",
       "</div>"
      ],
      "text/plain": [
       "             model   jaccard      dice  abs error\n",
       "0                0  0.473780  0.620854   0.095752\n",
       "1                1  0.431538  0.550269   0.090076\n",
       "2                2  0.431571  0.550322   0.088860\n",
       "3        All Agree  0.505143  0.675842   0.095252\n",
       "4  Majority Voting  0.430057  0.547863   0.087528\n",
       "5            Merge  0.409129  0.514346   0.091908"
      ]
     },
     "execution_count": 213,
     "metadata": {},
     "output_type": "execute_result"
    }
   ],
   "source": [
    "df_results"
   ]
  },
  {
   "cell_type": "code",
   "execution_count": 218,
   "id": "6a10a387-ffca-47ad-b619-618c16009446",
   "metadata": {
    "tags": []
   },
   "outputs": [
    {
     "data": {
      "text/plain": [
       "<Axes: xlabel='region'>"
      ]
     },
     "execution_count": 218,
     "metadata": {},
     "output_type": "execute_result"
    },
    {
     "data": {
      "image/png": "[encoded data removed]",
      "text/plain": [
       "<Figure size 800x400 with 1 Axes>"
      ]
     },
     "metadata": {},
     "output_type": "display_data"
    }
   ],
   "source": [
    "pylab.rcParams['figure.figsize'] = (8.0, 4.0) \n",
    "df.set_index(['model', 'region'], inplace=False).dice.unstack(0).plot.bar()"
   ]
  },
  {
   "cell_type": "markdown",
   "id": "8e5837e4-031e-4776-ba24-a1b89dad857a",
   "metadata": {},
   "source": [
    "## Build the final model\n",
    "It seems like the \"merged\" model performs the best. Hence, we merge the whole prediction and save it as a new output."
   ]
  },
  {
   "cell_type": "code",
   "execution_count": 220,
   "id": "2b58712f-cb1e-4a2e-b4a5-854e3497648d",
   "metadata": {
    "tags": []
   },
   "outputs": [],
   "source": [
    "combined_model = models['0'] + models['1'] + models['2']"
   ]
  },
  {
   "cell_type": "code",
   "execution_count": 221,
   "id": "0af2bac5-91f3-439a-b920-a51e49f97745",
   "metadata": {
    "tags": []
   },
   "outputs": [],
   "source": [
    "combined_model /= 3"
   ]
  },
  {
   "cell_type": "code",
   "execution_count": 222,
   "id": "f6c150b5-366b-484b-8361-8a82900e759a",
   "metadata": {
    "tags": []
   },
   "outputs": [],
   "source": [
    "combined_model = combined_model > 0"
   ]
  },
  {
   "cell_type": "code",
   "execution_count": 223,
   "id": "d1809871-f021-494a-bb6b-e9dd0160a372",
   "metadata": {
    "tags": []
   },
   "outputs": [],
   "source": [
    "filename = '../exports/{}/combined.tiff'.format(model_id)"
   ]
  },
  {
   "cell_type": "code",
   "execution_count": 137,
   "id": "48b471d0-adc3-4744-87de-1a2437b6d3de",
   "metadata": {
    "tags": []
   },
   "outputs": [],
   "source": [
    "import torchio as tio"
   ]
  },
  {
   "cell_type": "code",
   "execution_count": 224,
   "id": "68c2df71-4722-4103-b31e-a4241dfb2bf6",
   "metadata": {
    "tags": []
   },
   "outputs": [],
   "source": [
    "model_tensor = torch.from_numpy(combined_model)"
   ]
  },
  {
   "cell_type": "code",
   "execution_count": 234,
   "id": "d65e3e4c-5c71-4cc6-988a-7e1eb84aa99e",
   "metadata": {
    "tags": []
   },
   "outputs": [],
   "source": [
    "s_image = tio.ScalarImage(tensor=model_tensor.permute([2, 1, 0]).unsqueeze(0).float())"
   ]
  },
  {
   "cell_type": "code",
   "execution_count": 235,
   "id": "96dc4288-422d-4ed5-996a-9d971ee2c396",
   "metadata": {
    "tags": []
   },
   "outputs": [],
   "source": [
    "s_image.save(filename)"
   ]
  },
  {
   "cell_type": "code",
   "execution_count": 236,
   "id": "57f708b2-ded9-4aa2-a1c0-2e293f400434",
   "metadata": {},
   "outputs": [
    {
     "data": {
      "text/plain": [
       "'Baseline with more data'"
      ]
     },
     "execution_count": 236,
     "metadata": {},
     "output_type": "execute_result"
    }
   ],
   "source": [
    "config['name']"
   ]
  },
  {
   "cell_type": "code",
   "execution_count": null,
   "id": "d20043b4-8d42-43c8-8a31-2f675b8cc5c6",
   "metadata": {},
   "outputs": [],
   "source": []
  }
 ],
 "metadata": {
  "kernelspec": {
   "display_name": "Python 3 (ipykernel)",
   "language": "python",
   "name": "python3"
  },
  "language_info": {
   "codemirror_mode": {
    "name": "ipython",
    "version": 3
   },
   "file_extension": ".py",
   "mimetype": "text/x-python",
   "name": "python",
   "nbconvert_exporter": "python",
   "pygments_lexer": "ipython3",
   "version": "3.10.10"
  }
 },
 "nbformat": 4,
 "nbformat_minor": 5
}
